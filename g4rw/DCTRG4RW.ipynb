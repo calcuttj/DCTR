{
 "cells": [
  {
   "cell_type": "code",
   "execution_count": 1,
   "id": "8778ab15-54ba-44bb-9901-f366390aaa86",
   "metadata": {},
   "outputs": [
    {
     "name": "stderr",
     "output_type": "stream",
     "text": [
      "2025-07-08 14:54:42.449360: I tensorflow/core/util/port.cc:153] oneDNN custom operations are on. You may see slightly different numerical results due to floating-point round-off errors from different computation orders. To turn them off, set the environment variable `TF_ENABLE_ONEDNN_OPTS=0`.\n",
      "2025-07-08 14:54:42.775617: E external/local_xla/xla/stream_executor/cuda/cuda_fft.cc:467] Unable to register cuFFT factory: Attempting to register factory for plugin cuFFT when one has already been registered\n",
      "WARNING: All log messages before absl::InitializeLog() is called are written to STDERR\n",
      "E0000 00:00:1752000882.902236  337762 cuda_dnn.cc:8579] Unable to register cuDNN factory: Attempting to register factory for plugin cuDNN when one has already been registered\n",
      "E0000 00:00:1752000882.939991  337762 cuda_blas.cc:1407] Unable to register cuBLAS factory: Attempting to register factory for plugin cuBLAS when one has already been registered\n",
      "W0000 00:00:1752000883.216450  337762 computation_placer.cc:177] computation placer already registered. Please check linkage and avoid linking the same target more than once.\n",
      "W0000 00:00:1752000883.216500  337762 computation_placer.cc:177] computation placer already registered. Please check linkage and avoid linking the same target more than once.\n",
      "W0000 00:00:1752000883.216506  337762 computation_placer.cc:177] computation placer already registered. Please check linkage and avoid linking the same target more than once.\n",
      "W0000 00:00:1752000883.216510  337762 computation_placer.cc:177] computation placer already registered. Please check linkage and avoid linking the same target more than once.\n",
      "2025-07-08 14:54:43.246577: I tensorflow/core/platform/cpu_feature_guard.cc:210] This TensorFlow binary is optimized to use available CPU instructions in performance-critical operations.\n",
      "To enable the following instructions: AVX2 AVX_VNNI FMA, in other operations, rebuild TensorFlow with the appropriate compiler flags.\n"
     ]
    }
   ],
   "source": [
    "# standard library imports\n",
    "from __future__ import absolute_import, division, print_function\n",
    "\n",
    "import keras\n",
    "\n",
    "# standard numerical library imports\n",
    "import numpy as np\n",
    "import scipy as sp\n",
    "\n",
    "# energyflow imports\n",
    "import energyflow as ef\n",
    "from energyflow.archs import PFN\n",
    "from energyflow.utils import data_split, remap_pids, to_categorical\n",
    "\n",
    "import matplotlib.pyplot as plt"
   ]
  },
  {
   "cell_type": "code",
   "execution_count": 2,
   "id": "0ca3cab0-0400-46aa-8dfa-2b49e4e9af96",
   "metadata": {},
   "outputs": [],
   "source": [
    "import h5py as h5"
   ]
  },
  {
   "cell_type": "code",
   "execution_count": 3,
   "id": "b566c803-7f2b-44dd-97e3-95d871880349",
   "metadata": {},
   "outputs": [],
   "source": [
    "# f = h5.File('/home/jacob/050625_cascade_default_bert.h5')\n",
    "f = h5.File('/home/jacob/g4rw_dev/Geant4Reweight/geant4reweight/app/PredictionBase/050625_cascade_default_bert_500k.h5')\n",
    "# f1_1 = h5.File('/home/jacob/050625_cascade_default_bert_1.h5')\n",
    "# f1_2 = h5.File('/home/jacob/050625_cascade_default_bert_2.h5')"
   ]
  },
  {
   "cell_type": "code",
   "execution_count": 4,
   "id": "6a598c6d-b5cf-4bf3-ae96-aa7f134df195",
   "metadata": {
    "scrolled": true
   },
   "outputs": [],
   "source": [
    "# pdgs = f['X'][:,:,3].astype(int)"
   ]
  },
  {
   "cell_type": "code",
   "execution_count": 5,
   "id": "9f982c81-0fe1-4bb5-8480-b779641f2249",
   "metadata": {},
   "outputs": [],
   "source": [
    "# (pdgs[np.where(f['X'][:,:,3] > 1e9)] - 1.e9)*-1.e-5"
   ]
  },
  {
   "cell_type": "code",
   "execution_count": 6,
   "id": "bc7c182f-7c61-48b8-af13-9ef81dfd0d14",
   "metadata": {},
   "outputs": [],
   "source": [
    "# plt.hist((pdgs[pdgs > 1000000000] - 1e9) * -1./1.e5)"
   ]
  },
  {
   "cell_type": "code",
   "execution_count": 7,
   "id": "759d7868-2e22-48e5-ac51-b8362f94f99e",
   "metadata": {},
   "outputs": [],
   "source": [
    "# pdgs = f['X'][:]\n",
    "# pdgs_1 = f1_1['X'][:]\n",
    "# pdgs_2 = f1_2['X'][:]"
   ]
  },
  {
   "cell_type": "code",
   "execution_count": 8,
   "id": "0c369e82-5772-4960-9ea1-84b4fe7bc035",
   "metadata": {},
   "outputs": [],
   "source": [
    "testpdg = 2112\n",
    "# plt.hist(np.sum(pdgs[:, :, 3].astype(int) == testpdg, axis=1), np.arange(0, 10, ), histtype='step')\n",
    "# plt.hist(np.sum(pdgs_1[:, :, 3].astype(int) == testpdg, axis=1), np.arange(0, 10, ), histtype='step')\n",
    "# plt.hist(np.sum(pdgs_2[:, :, 3].astype(int) == testpdg, axis=1), np.arange(0, 10, ), histtype='step')"
   ]
  },
  {
   "cell_type": "code",
   "execution_count": 9,
   "id": "2e39cb1c-643a-4a23-8d21-30925a47e9de",
   "metadata": {},
   "outputs": [],
   "source": [
    "f2 = h5.File('/home/jacob/050625_cascade_shadowing0.1_bert.h5')"
   ]
  },
  {
   "cell_type": "code",
   "execution_count": 10,
   "id": "a303569e-8b7c-4fc7-a42b-4b58e87f2d63",
   "metadata": {},
   "outputs": [],
   "source": [
    "f3 = h5.File('/home/jacob/050625_cascade_shadowing0.15_bert.h5')\n",
    "f4 = h5.File('/home/jacob/050625_cascade_shadowing0.20_bert.h5')\n",
    "f5 = h5.File('/home/jacob/050625_cascade_shadowing0.25_bert.h5')"
   ]
  },
  {
   "cell_type": "code",
   "execution_count": 11,
   "id": "8ce99c93-af68-4ba6-b450-2b8a72c733db",
   "metadata": {},
   "outputs": [],
   "source": [
    "f6 = h5.File('/home/jacob/g4rw_dev/Geant4Reweight/geant4reweight/app/PredictionBase/050625_cascade_shadowing1.5_bert_500k.h5')"
   ]
  },
  {
   "cell_type": "code",
   "execution_count": 12,
   "id": "1885d256-1c1b-40ca-a332-d194f7ed385c",
   "metadata": {},
   "outputs": [],
   "source": [
    "pdgs2 = f2['X'][:]"
   ]
  },
  {
   "cell_type": "code",
   "execution_count": 13,
   "id": "9639dbaf-1551-4ef2-ab27-0848e1ee205f",
   "metadata": {},
   "outputs": [],
   "source": [
    "pdgs3 = f3['X'][:]\n",
    "pdgs4 = f4['X'][:]\n",
    "pdgs5 = f5['X'][:]\n",
    "pdgs6 = f6['X'][:]"
   ]
  },
  {
   "cell_type": "code",
   "execution_count": 14,
   "id": "598fec1b-5746-49b5-bfca-0f8f5ecd2a72",
   "metadata": {},
   "outputs": [
    {
     "data": {
      "text/plain": [
       "(array([3.10730e+04, 1.28204e+05, 1.06500e+05, 1.82198e+05, 3.91020e+04,\n",
       "        1.27100e+04, 2.07000e+02, 6.00000e+00, 0.00000e+00]),\n",
       " array([0., 1., 2., 3., 4., 5., 6., 7., 8., 9.]),\n",
       " [<matplotlib.patches.Polygon at 0x757aa20dc230>])"
      ]
     },
     "execution_count": 14,
     "metadata": {},
     "output_type": "execute_result"
    },
    {
     "data": {
      "image/png": "[encoded data removed]",
      "text/plain": [
       "<Figure size 640x480 with 1 Axes>"
      ]
     },
     "metadata": {},
     "output_type": "display_data"
    }
   ],
   "source": [
    "plt.hist(np.sum(pdgs2[:, :, 3].astype(int) == testpdg, axis=1), np.arange(0, 10, 1), histtype='step')\n",
    "plt.hist(np.sum(pdgs3[:, :, 3].astype(int) == testpdg, axis=1), np.arange(0, 10, 1), histtype='step')\n",
    "plt.hist(np.sum(pdgs4[:, :, 3].astype(int) == testpdg, axis=1), np.arange(0, 10, 1), histtype='step')\n",
    "plt.hist(np.sum(pdgs5[:, :, 3].astype(int) == testpdg, axis=1), np.arange(0, 10, 1), histtype='step')\n",
    "plt.hist(np.sum(pdgs6[:, :, 3].astype(int) == testpdg, axis=1), np.arange(0, 10, 1), histtype='step')"
   ]
  },
  {
   "cell_type": "code",
   "execution_count": 15,
   "id": "0940b0e4-3703-4488-aa78-7234a8f65c42",
   "metadata": {},
   "outputs": [],
   "source": [
    "PID2FLOAT_MAP = {22: 0,\n",
    "                 211: .1, -211: .2, \n",
    "                 321: .3, -321: .4, \n",
    "                 130: .5, \n",
    "                 2112: .6, -2112: .7, \n",
    "                 2212: .8, -2212: .9, \n",
    "                 11: 1.0, -11: 1.1,\n",
    "                 13: 1.2, -13: 1.3,\n",
    "}\n",
    "\n",
    "def remap_pids2(events, pid_i=3, error_on_unknown=True):\n",
    "    \"\"\"Remaps PDG id numbers to small floats for use in a neural network.\n",
    "    `events` are modified in place and nothing is returned.\n",
    "\n",
    "    **Arguments**\n",
    "\n",
    "    - **events** : _numpy.ndarray_\n",
    "        - The events as an array of arrays of particles.\n",
    "    - **pid_i** : _int_\n",
    "        - The column index corresponding to pid information in an event.\n",
    "    - **error_on_unknown** : _bool_\n",
    "        - Controls whether a `KeyError` is raised if an unknown PDG ID is\n",
    "        encountered. If `False`, unknown PDG IDs will map to zero.\n",
    "    \"\"\"\n",
    "\n",
    "    if events.ndim == 3:\n",
    "        pids = events[:,:,pid_i].astype(int).reshape((events.shape[0]*events.shape[1]))\n",
    "        chunk_indices = np.where(events[:,:,pid_i].astype(int) > 1e9) #Get the indices for where the nuke fragments are\n",
    "        floated_chunks = (events[:,:,pid_i][chunk_indices] - 1.e9)*-1.e-5\n",
    "        if error_on_unknown:\n",
    "            events[:,:,pid_i] = np.asarray([PID2FLOAT_MAP[pid]\n",
    "                                            for pid in pids]).reshape(events.shape[:2])\n",
    "        else:\n",
    "            events[:,:,pid_i] = np.asarray([PID2FLOAT_MAP.get(pid, 0)\n",
    "                                            for pid in pids]).reshape(events.shape[:2])\n",
    "        events[:,:,pid_i][chunk_indices] = floated_chunks\n",
    "    else:\n",
    "        if error_on_unknown:\n",
    "            for event in events:\n",
    "                event[:,pid_i] = np.asarray([PID2FLOAT_MAP[pid]\n",
    "                                             for pid in event[:,pid_i].astype(int)])\n",
    "        else:\n",
    "            for event in events:\n",
    "                event[:,pid_i] = np.asarray([PID2FLOAT_MAP.get(pid, 0)\n",
    "                                             for pid in event[:,pid_i].astype(int)])\n"
   ]
  },
  {
   "cell_type": "code",
   "execution_count": 16,
   "id": "6dc7938a-be24-44bd-840d-7ac2198210d1",
   "metadata": {},
   "outputs": [],
   "source": [
    "#normalize relative to incident momentum (100 MeV test)\n",
    "def normalize(x):\n",
    "    mask = np.linalg.norm(x[:,:3], axis=1) > 0.\n",
    "    x[mask, 0:3] /= 100."
   ]
  },
  {
   "cell_type": "code",
   "execution_count": 17,
   "id": "95ce30c5-9e3f-4e4e-9ab4-34aa665be6ea",
   "metadata": {},
   "outputs": [],
   "source": [
    "def preprocess_data(X):\n",
    "    for x in X:\n",
    "        normalize(x)\n",
    "    \n",
    "    # Remap PIDs to unique values in range [0,1]\n",
    "    remap_pids2(X, pid_i=3, error_on_unknown=False)\n",
    "    # return X"
   ]
  },
  {
   "cell_type": "code",
   "execution_count": 18,
   "id": "bca372fc-84d2-48d4-9e11-2127f03b2d1c",
   "metadata": {},
   "outputs": [],
   "source": [
    "X = f['X'][:, :, :4]"
   ]
  },
  {
   "cell_type": "code",
   "execution_count": 19,
   "id": "10de0c57-735b-49e6-ac0b-1ceea8e33576",
   "metadata": {},
   "outputs": [],
   "source": [
    "# remap_pids(X, pid_i=3, error_on_unknown=False)\n",
    "preprocess_data(X)"
   ]
  },
  {
   "cell_type": "code",
   "execution_count": 20,
   "id": "dde0dc6a-8bed-427f-9bf4-eaf3fea5ac0f",
   "metadata": {},
   "outputs": [
    {
     "data": {
      "text/plain": [
       "array([-3.5757499, -2.8696475, -0.8671343,  0.6      ], dtype=float32)"
      ]
     },
     "execution_count": 20,
     "metadata": {},
     "output_type": "execute_result"
    }
   ],
   "source": [
    "X[0][0]"
   ]
  },
  {
   "cell_type": "code",
   "execution_count": 21,
   "id": "d0ee8cd5-75c9-475b-af16-5dd99ffdadc4",
   "metadata": {},
   "outputs": [],
   "source": [
    "X2 = f6['X'][:, :, :4]"
   ]
  },
  {
   "cell_type": "code",
   "execution_count": 22,
   "id": "a6cddbd0-c19f-4fd7-b935-63152629f6bd",
   "metadata": {
    "scrolled": true
   },
   "outputs": [],
   "source": [
    "preprocess_data(X2)"
   ]
  },
  {
   "cell_type": "code",
   "execution_count": 23,
   "id": "910f4cc2-46f1-48dd-b818-3fac1956e583",
   "metadata": {},
   "outputs": [
    {
     "data": {
      "text/plain": [
       "(500000, 20, 4)"
      ]
     },
     "execution_count": 23,
     "metadata": {},
     "output_type": "execute_result"
    }
   ],
   "source": [
    "X2.shape"
   ]
  },
  {
   "cell_type": "code",
   "execution_count": 24,
   "id": "f95b445c-6277-4cf5-be58-e6214e1b5041",
   "metadata": {},
   "outputs": [],
   "source": [
    "Xcomb = np.concatenate((X,X2))"
   ]
  },
  {
   "cell_type": "code",
   "execution_count": 25,
   "id": "6e280089-22b4-4674-a62d-a0aabd2943f8",
   "metadata": {},
   "outputs": [],
   "source": [
    "Ycomb = np.zeros((Xcomb.shape[0], 2))"
   ]
  },
  {
   "cell_type": "code",
   "execution_count": 26,
   "id": "a1679166-f989-4bd0-a9a4-b7e9cf965c5d",
   "metadata": {},
   "outputs": [
    {
     "data": {
      "text/plain": [
       "(1000000, 20, 4)"
      ]
     },
     "execution_count": 26,
     "metadata": {},
     "output_type": "execute_result"
    }
   ],
   "source": [
    "Xcomb.shape"
   ]
  },
  {
   "cell_type": "code",
   "execution_count": 27,
   "id": "395267e8-e873-4118-a245-4493550f3b93",
   "metadata": {},
   "outputs": [
    {
     "data": {
      "text/plain": [
       "(1000000, 2)"
      ]
     },
     "execution_count": 27,
     "metadata": {},
     "output_type": "execute_result"
    }
   ],
   "source": [
    "Ycomb.shape"
   ]
  },
  {
   "cell_type": "code",
   "execution_count": 28,
   "id": "e2d6644e-f6d8-401a-bfbc-46eabde40a72",
   "metadata": {},
   "outputs": [],
   "source": [
    "Ycomb[0:int(Ycomb.shape[0]/2), 0] = 1.\n",
    "Ycomb[int(Ycomb.shape[0]/2):, 1] = 1.  "
   ]
  },
  {
   "cell_type": "code",
   "execution_count": 29,
   "id": "a03899a5-9845-4bb6-b72c-b53b2f143319",
   "metadata": {},
   "outputs": [
    {
     "name": "stderr",
     "output_type": "stream",
     "text": [
      "2025-07-08 14:55:14.247723: E external/local_xla/xla/stream_executor/cuda/cuda_platform.cc:51] failed call to cuInit: INTERNAL: CUDA error: Failed call to cuInit: CUDA_ERROR_NO_DEVICE: no CUDA-capable device is detected\n"
     ]
    }
   ],
   "source": [
    "# network architecture parameters\n",
    "Phi_sizes = (100,100, 128)\n",
    "F_sizes = (100,100, 100)\n",
    "\n",
    "dctr = PFN(input_dim=4, \n",
    "           Phi_sizes=Phi_sizes, F_sizes=F_sizes,\n",
    "           summary=False)"
   ]
  },
  {
   "cell_type": "code",
   "execution_count": 30,
   "id": "80cfa214-74f8-47e2-b22e-df43fc002761",
   "metadata": {},
   "outputs": [],
   "source": [
    "save_label = 'DCT_g4rw'\n",
    "\n",
    "checkpoint = keras.callbacks.ModelCheckpoint('./saved_models/' + save_label + '.h5', \n",
    "                                                monitor='val_loss', \n",
    "                                                verbose=2, \n",
    "                                                save_best_only=True, \n",
    "                                                mode='min')\n",
    "\n",
    "CSVLogger = keras.callbacks.CSVLogger('./logs/' + save_label + '_loss.csv', append=False)\n",
    "\n",
    "EarlyStopping = keras.callbacks.EarlyStopping(monitor='val_loss', \n",
    "                                              min_delta=0, \n",
    "                                              patience=10, \n",
    "                                              verbose=1, \n",
    "                                              restore_best_weights=True)\n",
    "\n",
    "callbacks = [checkpoint, CSVLogger, EarlyStopping]"
   ]
  },
  {
   "cell_type": "code",
   "execution_count": 31,
   "id": "0650388e-da23-4f0c-952f-baa106213f08",
   "metadata": {},
   "outputs": [],
   "source": [
    "X_train, X_val, Y_train, Y_val = data_split(Xcomb, Ycomb, test=0.1, shuffle=True)"
   ]
  },
  {
   "cell_type": "code",
   "execution_count": 32,
   "id": "511d9219-a99e-4689-9b03-2df091e9fb08",
   "metadata": {
    "scrolled": true
   },
   "outputs": [
    {
     "data": {
      "text/plain": [
       "array([[1., 0.],\n",
       "       [0., 1.],\n",
       "       [1., 0.],\n",
       "       [1., 0.],\n",
       "       [1., 0.],\n",
       "       [0., 1.],\n",
       "       [1., 0.],\n",
       "       [1., 0.],\n",
       "       [1., 0.],\n",
       "       [0., 1.],\n",
       "       [1., 0.],\n",
       "       [0., 1.],\n",
       "       [0., 1.],\n",
       "       [1., 0.],\n",
       "       [0., 1.],\n",
       "       [0., 1.],\n",
       "       [1., 0.],\n",
       "       [1., 0.],\n",
       "       [1., 0.],\n",
       "       [1., 0.],\n",
       "       [1., 0.],\n",
       "       [0., 1.],\n",
       "       [0., 1.],\n",
       "       [0., 1.],\n",
       "       [0., 1.],\n",
       "       [0., 1.],\n",
       "       [0., 1.],\n",
       "       [1., 0.],\n",
       "       [0., 1.],\n",
       "       [0., 1.],\n",
       "       [1., 0.],\n",
       "       [1., 0.],\n",
       "       [0., 1.],\n",
       "       [1., 0.],\n",
       "       [1., 0.],\n",
       "       [1., 0.],\n",
       "       [1., 0.],\n",
       "       [1., 0.],\n",
       "       [0., 1.],\n",
       "       [0., 1.],\n",
       "       [0., 1.],\n",
       "       [0., 1.],\n",
       "       [1., 0.],\n",
       "       [0., 1.],\n",
       "       [1., 0.],\n",
       "       [1., 0.],\n",
       "       [1., 0.],\n",
       "       [0., 1.],\n",
       "       [1., 0.],\n",
       "       [1., 0.],\n",
       "       [1., 0.],\n",
       "       [1., 0.],\n",
       "       [0., 1.],\n",
       "       [1., 0.],\n",
       "       [0., 1.],\n",
       "       [0., 1.],\n",
       "       [0., 1.],\n",
       "       [1., 0.],\n",
       "       [1., 0.],\n",
       "       [0., 1.],\n",
       "       [1., 0.],\n",
       "       [0., 1.],\n",
       "       [0., 1.],\n",
       "       [0., 1.],\n",
       "       [0., 1.],\n",
       "       [0., 1.],\n",
       "       [1., 0.],\n",
       "       [1., 0.],\n",
       "       [0., 1.],\n",
       "       [0., 1.],\n",
       "       [1., 0.],\n",
       "       [0., 1.],\n",
       "       [0., 1.],\n",
       "       [1., 0.],\n",
       "       [0., 1.],\n",
       "       [0., 1.],\n",
       "       [1., 0.],\n",
       "       [0., 1.],\n",
       "       [0., 1.],\n",
       "       [1., 0.],\n",
       "       [0., 1.],\n",
       "       [0., 1.],\n",
       "       [0., 1.],\n",
       "       [1., 0.],\n",
       "       [1., 0.],\n",
       "       [1., 0.],\n",
       "       [0., 1.],\n",
       "       [0., 1.],\n",
       "       [0., 1.],\n",
       "       [1., 0.],\n",
       "       [0., 1.],\n",
       "       [1., 0.],\n",
       "       [0., 1.],\n",
       "       [1., 0.],\n",
       "       [1., 0.],\n",
       "       [0., 1.],\n",
       "       [0., 1.],\n",
       "       [1., 0.],\n",
       "       [1., 0.],\n",
       "       [1., 0.]])"
      ]
     },
     "execution_count": 32,
     "metadata": {},
     "output_type": "execute_result"
    }
   ],
   "source": [
    "Y_train[0:100]"
   ]
  },
  {
   "cell_type": "code",
   "execution_count": 33,
   "id": "ca9903d2-bc41-41c8-b6bf-8fe059a2973d",
   "metadata": {},
   "outputs": [
    {
     "name": "stdout",
     "output_type": "stream",
     "text": [
      "Epoch 1/50\n",
      "876/876 [==============================] - 20s 21ms/step - loss: 0.7054 - acc: 0.5351 - val_loss: 0.6856 - val_acc: 0.5464\n",
      "Epoch 2/50\n",
      "876/876 [==============================] - 18s 20ms/step - loss: 0.6857 - acc: 0.5472 - val_loss: 0.6841 - val_acc: 0.5515\n",
      "Epoch 3/50\n",
      "876/876 [==============================] - 18s 21ms/step - loss: 0.6842 - acc: 0.5508 - val_loss: 0.6830 - val_acc: 0.5542\n",
      "Epoch 4/50\n",
      "876/876 [==============================] - 18s 21ms/step - loss: 0.6832 - acc: 0.5534 - val_loss: 0.6812 - val_acc: 0.5574\n",
      "Epoch 5/50\n",
      "876/876 [==============================] - 18s 21ms/step - loss: 0.6821 - acc: 0.5561 - val_loss: 0.6813 - val_acc: 0.5595\n",
      "Epoch 6/50\n",
      "876/876 [==============================] - 18s 20ms/step - loss: 0.6813 - acc: 0.5579 - val_loss: 0.6801 - val_acc: 0.5608\n",
      "Epoch 7/50\n",
      "876/876 [==============================] - 18s 21ms/step - loss: 0.6808 - acc: 0.5590 - val_loss: 0.6802 - val_acc: 0.5607\n",
      "Epoch 8/50\n",
      "876/876 [==============================] - 11s 13ms/step - loss: 0.6806 - acc: 0.5594 - val_loss: 0.6799 - val_acc: 0.5611\n",
      "Epoch 9/50\n",
      "876/876 [==============================] - 10s 12ms/step - loss: 0.6804 - acc: 0.5597 - val_loss: 0.6796 - val_acc: 0.5609\n",
      "Epoch 10/50\n",
      "876/876 [==============================] - 10s 12ms/step - loss: 0.6802 - acc: 0.5606 - val_loss: 0.6795 - val_acc: 0.5621\n",
      "Epoch 11/50\n",
      "876/876 [==============================] - 10s 12ms/step - loss: 0.6801 - acc: 0.5606 - val_loss: 0.6795 - val_acc: 0.5631\n",
      "Epoch 12/50\n",
      "876/876 [==============================] - 11s 12ms/step - loss: 0.6799 - acc: 0.5613 - val_loss: 0.6791 - val_acc: 0.5626\n",
      "Epoch 13/50\n",
      "876/876 [==============================] - 11s 12ms/step - loss: 0.6798 - acc: 0.5614 - val_loss: 0.6800 - val_acc: 0.5602\n",
      "Epoch 14/50\n",
      "876/876 [==============================] - 11s 13ms/step - loss: 0.6797 - acc: 0.5614 - val_loss: 0.6793 - val_acc: 0.5634\n",
      "Epoch 15/50\n",
      "876/876 [==============================] - 11s 13ms/step - loss: 0.6797 - acc: 0.5612 - val_loss: 0.6790 - val_acc: 0.5638\n",
      "Epoch 16/50\n",
      "876/876 [==============================] - 12s 13ms/step - loss: 0.6795 - acc: 0.5616 - val_loss: 0.6790 - val_acc: 0.5641\n",
      "Epoch 17/50\n",
      "876/876 [==============================] - 12s 13ms/step - loss: 0.6795 - acc: 0.5619 - val_loss: 0.6792 - val_acc: 0.5634\n",
      "Epoch 18/50\n",
      "876/876 [==============================] - 12s 13ms/step - loss: 0.6794 - acc: 0.5621 - val_loss: 0.6789 - val_acc: 0.5636\n",
      "Epoch 19/50\n",
      "876/876 [==============================] - 12s 14ms/step - loss: 0.6793 - acc: 0.5621 - val_loss: 0.6794 - val_acc: 0.5630\n",
      "Epoch 20/50\n",
      "876/876 [==============================] - 16s 18ms/step - loss: 0.6793 - acc: 0.5626 - val_loss: 0.6793 - val_acc: 0.5614\n",
      "Epoch 21/50\n",
      "876/876 [==============================] - 15s 17ms/step - loss: 0.6793 - acc: 0.5621 - val_loss: 0.6789 - val_acc: 0.5628\n",
      "Epoch 22/50\n",
      "876/876 [==============================] - 15s 17ms/step - loss: 0.6792 - acc: 0.5623 - val_loss: 0.6794 - val_acc: 0.5634\n",
      "Epoch 23/50\n",
      "876/876 [==============================] - 16s 19ms/step - loss: 0.6791 - acc: 0.5627 - val_loss: 0.6788 - val_acc: 0.5644\n",
      "Epoch 24/50\n",
      "876/876 [==============================] - 15s 17ms/step - loss: 0.6790 - acc: 0.5629 - val_loss: 0.6796 - val_acc: 0.5615\n",
      "Epoch 25/50\n",
      "876/876 [==============================] - 14s 16ms/step - loss: 0.6791 - acc: 0.5623 - val_loss: 0.6787 - val_acc: 0.5642\n",
      "Epoch 26/50\n",
      "876/876 [==============================] - 14s 16ms/step - loss: 0.6791 - acc: 0.5625 - val_loss: 0.6790 - val_acc: 0.5636\n",
      "Epoch 27/50\n",
      "876/876 [==============================] - 14s 16ms/step - loss: 0.6790 - acc: 0.5628 - val_loss: 0.6787 - val_acc: 0.5636\n",
      "Epoch 28/50\n",
      "876/876 [==============================] - 14s 16ms/step - loss: 0.6789 - acc: 0.5629 - val_loss: 0.6793 - val_acc: 0.5622\n",
      "Epoch 29/50\n",
      "876/876 [==============================] - 14s 16ms/step - loss: 0.6789 - acc: 0.5627 - val_loss: 0.6790 - val_acc: 0.5628\n",
      "Epoch 30/50\n",
      "876/876 [==============================] - 14s 16ms/step - loss: 0.6788 - acc: 0.5630 - val_loss: 0.6787 - val_acc: 0.5641\n",
      "Epoch 31/50\n",
      "876/876 [==============================] - 14s 17ms/step - loss: 0.6788 - acc: 0.5631 - val_loss: 0.6790 - val_acc: 0.5637\n",
      "Epoch 32/50\n",
      "876/876 [==============================] - 14s 16ms/step - loss: 0.6788 - acc: 0.5629 - val_loss: 0.6795 - val_acc: 0.5618\n",
      "Epoch 33/50\n",
      "876/876 [==============================] - 15s 17ms/step - loss: 0.6788 - acc: 0.5628 - val_loss: 0.6787 - val_acc: 0.5641\n",
      "Epoch 34/50\n",
      "876/876 [==============================] - 15s 17ms/step - loss: 0.6787 - acc: 0.5631 - val_loss: 0.6790 - val_acc: 0.5634\n",
      "Epoch 35/50\n",
      "876/876 [==============================] - 15s 17ms/step - loss: 0.6787 - acc: 0.5629 - val_loss: 0.6790 - val_acc: 0.5634\n",
      "Epoch 36/50\n",
      "876/876 [==============================] - 15s 17ms/step - loss: 0.6786 - acc: 0.5634 - val_loss: 0.6791 - val_acc: 0.5632\n",
      "Epoch 37/50\n",
      "876/876 [==============================] - 15s 17ms/step - loss: 0.6787 - acc: 0.5630 - val_loss: 0.6788 - val_acc: 0.5640\n",
      "Epoch 38/50\n",
      "876/876 [==============================] - 15s 17ms/step - loss: 0.6786 - acc: 0.5631 - val_loss: 0.6787 - val_acc: 0.5634\n",
      "Epoch 39/50\n",
      "876/876 [==============================] - 11s 13ms/step - loss: 0.6785 - acc: 0.5632 - val_loss: 0.6790 - val_acc: 0.5634\n",
      "Epoch 40/50\n",
      "876/876 [==============================] - 11s 12ms/step - loss: 0.6785 - acc: 0.5633 - val_loss: 0.6795 - val_acc: 0.5632\n",
      "Epoch 41/50\n",
      "876/876 [==============================] - 11s 12ms/step - loss: 0.6785 - acc: 0.5635 - val_loss: 0.6790 - val_acc: 0.5640\n",
      "Epoch 42/50\n",
      "876/876 [==============================] - 11s 12ms/step - loss: 0.6784 - acc: 0.5636 - val_loss: 0.6790 - val_acc: 0.5635\n",
      "Epoch 43/50\n",
      "876/876 [==============================] - 11s 13ms/step - loss: 0.6784 - acc: 0.5636 - val_loss: 0.6791 - val_acc: 0.5625\n",
      "Epoch 44/50\n",
      "876/876 [==============================] - 12s 14ms/step - loss: 0.6784 - acc: 0.5635 - val_loss: 0.6796 - val_acc: 0.5621\n",
      "Epoch 45/50\n",
      "876/876 [==============================] - 16s 18ms/step - loss: 0.6784 - acc: 0.5636 - val_loss: 0.6790 - val_acc: 0.5632\n",
      "Epoch 46/50\n",
      "876/876 [==============================] - 15s 18ms/step - loss: 0.6782 - acc: 0.5640 - val_loss: 0.6789 - val_acc: 0.5628\n",
      "Epoch 47/50\n",
      "876/876 [==============================] - 15s 17ms/step - loss: 0.6782 - acc: 0.5638 - val_loss: 0.6791 - val_acc: 0.5626\n",
      "Epoch 48/50\n",
      "876/876 [==============================] - 15s 17ms/step - loss: 0.6782 - acc: 0.5637 - val_loss: 0.6790 - val_acc: 0.5636\n",
      "Epoch 49/50\n",
      "876/876 [==============================] - 15s 17ms/step - loss: 0.6781 - acc: 0.5641 - val_loss: 0.6794 - val_acc: 0.5614\n",
      "Epoch 50/50\n",
      "876/876 [==============================] - 15s 17ms/step - loss: 0.6781 - acc: 0.5636 - val_loss: 0.6792 - val_acc: 0.5619\n"
     ]
    }
   ],
   "source": [
    "history = dctr.fit(X_train, Y_train,\n",
    "                    epochs = 50,\n",
    "                    batch_size = 1028,\n",
    "                    validation_data = (X_val, Y_val),\n",
    "                    verbose = 1)#, \n",
    "                    #callbacks = callbacks)"
   ]
  },
  {
   "cell_type": "code",
   "execution_count": 34,
   "id": "d64478ce-eda9-4422-91f3-a21414ab5905",
   "metadata": {},
   "outputs": [
    {
     "data": {
      "image/png": "[encoded data removed]",
      "text/plain": [
       "<Figure size 640x480 with 1 Axes>"
      ]
     },
     "metadata": {},
     "output_type": "display_data"
    }
   ],
   "source": [
    "plt.plot(history.history['loss'],     label = 'loss')\n",
    "plt.plot(history.history['val_loss'], label = 'val loss')\n",
    "plt.legend(loc=0)\n",
    "plt.ylabel('loss')\n",
    "plt.xlabel('Epochs')\n",
    "plt.ylim(0., 2.)\n",
    "plt.show()"
   ]
  },
  {
   "cell_type": "code",
   "execution_count": 35,
   "id": "638ed73a-1514-4375-a4de-e58f271bc0f1",
   "metadata": {},
   "outputs": [
    {
     "data": {
      "text/plain": [
       "449756"
      ]
     },
     "execution_count": 35,
     "metadata": {},
     "output_type": "execute_result"
    }
   ],
   "source": [
    "np.sum(Y_train[:,0] == 1)"
   ]
  },
  {
   "cell_type": "code",
   "execution_count": 36,
   "id": "b406321f-5469-4c36-af13-818ed2f60efe",
   "metadata": {},
   "outputs": [
    {
     "name": "stdout",
     "output_type": "stream",
     "text": [
      "900/900 [==============================] - 5s 6ms/step\n"
     ]
    }
   ],
   "source": [
    "ws = dctr.predict(X_train, batch_size=1000)"
   ]
  },
  {
   "cell_type": "code",
   "execution_count": 37,
   "id": "9583d957-2f9e-45c6-963b-a04a021a4c80",
   "metadata": {},
   "outputs": [
    {
     "data": {
      "text/plain": [
       "array([[0.4450034 , 0.55499667],\n",
       "       [0.55097127, 0.44902867],\n",
       "       [0.4409839 , 0.5590161 ],\n",
       "       ...,\n",
       "       [0.81244236, 0.18755767],\n",
       "       [0.43737617, 0.56262386],\n",
       "       [0.47472045, 0.5252795 ]], dtype=float32)"
      ]
     },
     "execution_count": 37,
     "metadata": {},
     "output_type": "execute_result"
    }
   ],
   "source": [
    "ws"
   ]
  },
  {
   "cell_type": "code",
   "execution_count": null,
   "id": "be1e0126-9139-4c0c-ad01-0011a4d274e0",
   "metadata": {},
   "outputs": [],
   "source": []
  },
  {
   "cell_type": "code",
   "execution_count": 38,
   "id": "056ab0ca-5f5d-4d6b-a8cb-941326a15a90",
   "metadata": {},
   "outputs": [],
   "source": [
    "#Get the entries where it's nominal (index 0 is high) or varied (index 1 is high)\n",
    "def_indices = np.where(Y_train[:,0] == 1)\n",
    "var_indices = np.where(Y_train[:,1] == 1)"
   ]
  },
  {
   "cell_type": "code",
   "execution_count": 39,
   "id": "4b41f7ab-198e-4e56-8601-4523592b94d8",
   "metadata": {},
   "outputs": [],
   "source": [
    "weights_0 = ws[:,0]/ws[:,1] #weights varied->nominal are the likelihood ratio "
   ]
  },
  {
   "cell_type": "code",
   "execution_count": 40,
   "id": "cfc7ba73-f934-4937-87dd-aa82a18ac80e",
   "metadata": {
    "jupyter": {
     "source_hidden": true
    }
   },
   "outputs": [
    {
     "data": {
      "text/plain": [
       "(array([0.00000e+00, 3.00000e+00, 8.00000e+00, 3.30000e+01, 9.70000e+01,\n",
       "        4.19000e+02, 1.97510e+04, 1.12539e+05, 1.47996e+05, 6.24670e+04,\n",
       "        2.63320e+04, 1.72110e+04, 1.24400e+04, 9.28700e+03, 7.12900e+03,\n",
       "        5.42800e+03, 4.42800e+03, 3.57000e+03, 2.96500e+03, 2.35000e+03,\n",
       "        1.91900e+03, 1.66300e+03, 1.45600e+03, 1.20800e+03, 1.06200e+03,\n",
       "        9.48000e+02, 8.02000e+02, 6.92000e+02, 6.20000e+02, 4.77000e+02,\n",
       "        4.57000e+02, 4.09000e+02, 3.77000e+02, 3.19000e+02, 3.16000e+02,\n",
       "        2.87000e+02, 2.73000e+02, 2.10000e+02, 2.27000e+02, 1.77000e+02,\n",
       "        1.63000e+02, 1.33000e+02, 1.26000e+02, 1.11000e+02, 1.15000e+02,\n",
       "        1.06000e+02, 1.01000e+02, 9.10000e+01, 7.10000e+01]),\n",
       " array([0. , 0.1, 0.2, 0.3, 0.4, 0.5, 0.6, 0.7, 0.8, 0.9, 1. , 1.1, 1.2,\n",
       "        1.3, 1.4, 1.5, 1.6, 1.7, 1.8, 1.9, 2. , 2.1, 2.2, 2.3, 2.4, 2.5,\n",
       "        2.6, 2.7, 2.8, 2.9, 3. , 3.1, 3.2, 3.3, 3.4, 3.5, 3.6, 3.7, 3.8,\n",
       "        3.9, 4. , 4.1, 4.2, 4.3, 4.4, 4.5, 4.6, 4.7, 4.8, 4.9]),\n",
       " [<matplotlib.patches.Polygon at 0x757aab43cef0>])"
      ]
     },
     "execution_count": 40,
     "metadata": {},
     "output_type": "execute_result"
    },
    {
     "data": {
      "image/png": "[encoded data removed]",
      "text/plain": [
       "<Figure size 640x480 with 1 Axes>"
      ]
     },
     "metadata": {},
     "output_type": "display_data"
    }
   ],
   "source": [
    "plt.hist(weights_0[def_indices], np.arange(0.,5, .1), histtype='step')\n",
    "plt.hist(weights_0[var_indices], np.arange(0.,5, .1), histtype='step')"
   ]
  },
  {
   "cell_type": "code",
   "execution_count": 41,
   "id": "b6436842-b548-4634-9742-5c3aca61f789",
   "metadata": {},
   "outputs": [
    {
     "name": "stdout",
     "output_type": "stream",
     "text": [
      "100/100 [==============================] - 1s 6ms/step\n"
     ]
    }
   ],
   "source": [
    "ws_val = dctr.predict(X_val, batch_size=1000)\n",
    "indices_val = np.where(Y_val[:,0]==1)\n",
    "indices2_val = np.where(Y_val[:,1]==1)"
   ]
  },
  {
   "cell_type": "code",
   "execution_count": 42,
   "id": "d8f837e5-d64c-4858-9976-79442ca3927f",
   "metadata": {},
   "outputs": [],
   "source": [
    "weights_0_val = ws_val[:,0]/ws_val[:,1]"
   ]
  },
  {
   "cell_type": "code",
   "execution_count": 43,
   "id": "1eae0279-a992-46b3-838a-0a84c221ea4e",
   "metadata": {
    "jupyter": {
     "source_hidden": true
    },
    "scrolled": true
   },
   "outputs": [
    {
     "data": {
      "text/plain": [
       "(array([0.0000e+00, 0.0000e+00, 0.0000e+00, 1.0000e+00, 2.0000e+00,\n",
       "        4.4000e+01, 2.0510e+03, 1.2205e+04, 1.6569e+04, 6.8820e+03,\n",
       "        2.9500e+03, 1.9110e+03, 1.3900e+03, 1.0670e+03, 7.8600e+02,\n",
       "        5.9600e+02, 4.7900e+02, 3.6600e+02, 3.2700e+02, 2.7500e+02,\n",
       "        2.2300e+02, 1.9600e+02, 1.6100e+02, 1.4200e+02, 1.2500e+02,\n",
       "        1.0800e+02, 8.8000e+01, 7.5000e+01, 7.5000e+01, 4.6000e+01,\n",
       "        4.9000e+01, 5.5000e+01, 5.1000e+01, 3.6000e+01, 3.6000e+01,\n",
       "        3.8000e+01, 3.0000e+01, 2.1000e+01, 3.3000e+01, 2.1000e+01,\n",
       "        1.4000e+01, 1.7000e+01, 2.0000e+01, 1.5000e+01, 1.0000e+01,\n",
       "        1.6000e+01, 1.1000e+01, 9.0000e+00, 1.0000e+01]),\n",
       " array([0. , 0.1, 0.2, 0.3, 0.4, 0.5, 0.6, 0.7, 0.8, 0.9, 1. , 1.1, 1.2,\n",
       "        1.3, 1.4, 1.5, 1.6, 1.7, 1.8, 1.9, 2. , 2.1, 2.2, 2.3, 2.4, 2.5,\n",
       "        2.6, 2.7, 2.8, 2.9, 3. , 3.1, 3.2, 3.3, 3.4, 3.5, 3.6, 3.7, 3.8,\n",
       "        3.9, 4. , 4.1, 4.2, 4.3, 4.4, 4.5, 4.6, 4.7, 4.8, 4.9]),\n",
       " [<matplotlib.patches.Polygon at 0x757aab4d0530>])"
      ]
     },
     "execution_count": 43,
     "metadata": {},
     "output_type": "execute_result"
    },
    {
     "data": {
      "image/png": "[encoded data removed]",
      "text/plain": [
       "<Figure size 640x480 with 1 Axes>"
      ]
     },
     "metadata": {},
     "output_type": "display_data"
    }
   ],
   "source": [
    "plt.hist(weights_0_val[indices_val], np.arange(0.,5, .1), histtype='step')\n",
    "plt.hist(weights_0_val[indices2_val], np.arange(0.,5, .1), histtype='step')"
   ]
  },
  {
   "cell_type": "code",
   "execution_count": 44,
   "id": "8a99004c-0c62-43a4-bc31-b525c8d5cdaf",
   "metadata": {},
   "outputs": [],
   "source": [
    "testpdg = .6"
   ]
  },
  {
   "cell_type": "code",
   "execution_count": 45,
   "id": "4c241d8c-9782-48ee-84da-de28c9bb6b9e",
   "metadata": {},
   "outputs": [
    {
     "name": "stdout",
     "output_type": "stream",
     "text": [
      "[[[0.8 0.8 0.6 ... 0.  0.  0. ]\n",
      "  [0.8 0.6 0.8 ... 0.  0.  0. ]\n",
      "  [0.8 0.6 0.6 ... 0.  0.  0. ]\n",
      "  ...\n",
      "  [0.8 0.8 0.6 ... 0.  0.  0. ]\n",
      "  [0.6 0.8 0.6 ... 0.  0.  0. ]\n",
      "  [0.6 0.8 0.  ... 0.  0.  0. ]]]\n",
      "(1, 449756, 20)\n"
     ]
    }
   ],
   "source": [
    "\n",
    "\n",
    "print(X_train[def_indices, :, 3])\n",
    "print(((X_train[def_indices, :, 3] > testpdg-.05) & (X_train[def_indices, :, 3] < testpdg +.05)).shape)\n"
   ]
  },
  {
   "cell_type": "code",
   "execution_count": 46,
   "id": "06c5d23f-ad3c-4f98-bd82-06da0313dab3",
   "metadata": {},
   "outputs": [
    {
     "data": {
      "text/plain": [
       "<matplotlib.legend.Legend at 0x757aab4a5160>"
      ]
     },
     "execution_count": 46,
     "metadata": {},
     "output_type": "execute_result"
    },
    {
     "data": {
      "image/png": "[encoded data removed]",
      "text/plain": [
       "<Figure size 640x480 with 1 Axes>"
      ]
     },
     "metadata": {},
     "output_type": "display_data"
    }
   ],
   "source": [
    "default_multiplicity = np.sum(((X_train[def_indices, :, 3] > testpdg-.05) & (X_train[def_indices, :, 3] < testpdg +.05))[0], axis=1)\n",
    "varied_multiplicity = np.sum(((X_train[var_indices, :, 3] > testpdg-.05) & (X_train[var_indices, :, 3] < testpdg +.05))[0], axis=1)\n",
    "plt.hist(default_multiplicity, np.arange(0, 12, ), histtype='step', label='Gen 0')\n",
    "plt.hist(varied_multiplicity, np.arange(0, 12, ), histtype='step', label='Gen 1')\n",
    "plt.hist(varied_multiplicity, np.arange(0, 12, ), histtype='step', label='Weight 1->0', weights=weights_0[var_indices])\n",
    "plt.hist(default_multiplicity, np.arange(0, 12, ), histtype='step', label='Weight 0->1', weights=1./weights_0[def_indices])\n",
    "plt.legend()"
   ]
  },
  {
   "cell_type": "code",
   "execution_count": 47,
   "id": "55396348-f064-4b7a-a59d-be9e99b5aabd",
   "metadata": {},
   "outputs": [
    {
     "data": {
      "text/plain": [
       "<matplotlib.legend.Legend at 0x757a6825a810>"
      ]
     },
     "execution_count": 47,
     "metadata": {},
     "output_type": "execute_result"
    },
    {
     "data": {
      "image/png": "[encoded data removed]",
      "text/plain": [
       "<Figure size 640x480 with 1 Axes>"
      ]
     },
     "metadata": {},
     "output_type": "display_data"
    }
   ],
   "source": [
    "def_indices_val = np.where(Y_val[:,0] == 1)\n",
    "var_indices_val = np.where(Y_val[:,1] == 1)\n",
    "plt.hist(np.sum(((X_val[def_indices_val, :, 3] > testpdg-.05) & (X_val[def_indices_val, :, 3] < testpdg +.05))[0], axis=1), np.arange(0, 12, ), histtype='step', label='Gen 0')\n",
    "plt.hist(np.sum(((X_val[var_indices_val, :, 3] > testpdg-.05) & (X_val[var_indices_val, :, 3] < testpdg +.05))[0], axis=1), np.arange(0, 12, ), histtype='step', label='Gen 1')\n",
    "plt.hist(np.sum(((X_val[var_indices_val, :, 3] > testpdg-.05) & (X_val[var_indices_val, :, 3] < testpdg +.05))[0], axis=1), np.arange(0, 12, ), histtype='step', label='Weight 1->0', weights=weights_0_val[var_indices_val])\n",
    "# plt.hist(np.sum(((X_train[def_indices, :, 3] > testpdg-.5) & (X_train[def_indices, :, 3] < testpdg +.5))[0], axis=1), np.arange(0, 12, ), histtype='step', label='Weight 0->1', weights=1./weights_0[def_indices])\n",
    "plt.legend()"
   ]
  },
  {
   "cell_type": "code",
   "execution_count": 48,
   "id": "1ad416f5-bbc8-49f9-83f3-e0e9cfde87fd",
   "metadata": {},
   "outputs": [
    {
     "data": {
      "text/plain": [
       "<matplotlib.legend.Legend at 0x757a680db530>"
      ]
     },
     "execution_count": 48,
     "metadata": {},
     "output_type": "execute_result"
    },
    {
     "data": {
      "image/png": "[encoded data removed]",
      "text/plain": [
       "<Figure size 640x480 with 1 Axes>"
      ]
     },
     "metadata": {},
     "output_type": "display_data"
    }
   ],
   "source": [
    "plt.hist(np.sum((X_train[def_indices, :, 3] < 0)[0], axis=1), np.arange(0, 12, ), histtype='step', label='Gen 0')\n",
    "plt.hist(np.sum((X_train[var_indices, :, 3] < 0)[0], axis=1), np.arange(0, 12, ), histtype='step', label='Gen 1')\n",
    "plt.hist(np.sum((X_train[var_indices, :, 3] < 0)[0], axis=1), np.arange(0, 12, ), histtype='step', label='Weight 1->0', weights=weights_0[var_indices])\n",
    "plt.legend()"
   ]
  },
  {
   "cell_type": "code",
   "execution_count": null,
   "id": "fc7ff7a0-67b7-49e3-9f56-1a6e1d9f1c43",
   "metadata": {},
   "outputs": [],
   "source": []
  }
 ],
 "metadata": {
  "kernelspec": {
   "display_name": "Python 3 (ipykernel)",
   "language": "python",
   "name": "python3"
  },
  "language_info": {
   "codemirror_mode": {
    "name": "ipython",
    "version": 3
   },
   "file_extension": ".py",
   "mimetype": "text/x-python",
   "name": "python",
   "nbconvert_exporter": "python",
   "pygments_lexer": "ipython3",
   "version": "3.12.3"
  }
 },
 "nbformat": 4,
 "nbformat_minor": 5
}
