{
 "cells": [
  {
   "cell_type": "code",
   "execution_count": 1,
   "id": "8778ab15-54ba-44bb-9901-f366390aaa86",
   "metadata": {},
   "outputs": [
    {
     "name": "stderr",
     "output_type": "stream",
     "text": [
      "2025-07-01 15:03:30.806534: I tensorflow/core/util/port.cc:153] oneDNN custom operations are on. You may see slightly different numerical results due to floating-point round-off errors from different computation orders. To turn them off, set the environment variable `TF_ENABLE_ONEDNN_OPTS=0`.\n",
      "2025-07-01 15:03:30.815335: E external/local_xla/xla/stream_executor/cuda/cuda_fft.cc:467] Unable to register cuFFT factory: Attempting to register factory for plugin cuFFT when one has already been registered\n",
      "WARNING: All log messages before absl::InitializeLog() is called are written to STDERR\n",
      "E0000 00:00:1751396610.825114  244626 cuda_dnn.cc:8579] Unable to register cuDNN factory: Attempting to register factory for plugin cuDNN when one has already been registered\n",
      "E0000 00:00:1751396610.828331  244626 cuda_blas.cc:1407] Unable to register cuBLAS factory: Attempting to register factory for plugin cuBLAS when one has already been registered\n",
      "W0000 00:00:1751396610.836300  244626 computation_placer.cc:177] computation placer already registered. Please check linkage and avoid linking the same target more than once.\n",
      "W0000 00:00:1751396610.836313  244626 computation_placer.cc:177] computation placer already registered. Please check linkage and avoid linking the same target more than once.\n",
      "W0000 00:00:1751396610.836314  244626 computation_placer.cc:177] computation placer already registered. Please check linkage and avoid linking the same target more than once.\n",
      "W0000 00:00:1751396610.836315  244626 computation_placer.cc:177] computation placer already registered. Please check linkage and avoid linking the same target more than once.\n",
      "2025-07-01 15:03:30.840509: I tensorflow/core/platform/cpu_feature_guard.cc:210] This TensorFlow binary is optimized to use available CPU instructions in performance-critical operations.\n",
      "To enable the following instructions: AVX2 AVX_VNNI FMA, in other operations, rebuild TensorFlow with the appropriate compiler flags.\n"
     ]
    }
   ],
   "source": [
    "# standard library imports\n",
    "from __future__ import absolute_import, division, print_function\n",
    "\n",
    "import keras\n",
    "\n",
    "# standard numerical library imports\n",
    "import numpy as np\n",
    "import scipy as sp\n",
    "\n",
    "# energyflow imports\n",
    "import energyflow as ef\n",
    "from energyflow.archs import PFN\n",
    "from energyflow.utils import data_split, remap_pids, to_categorical\n",
    "\n",
    "import matplotlib.pyplot as plt"
   ]
  },
  {
   "cell_type": "code",
   "execution_count": 2,
   "id": "0ca3cab0-0400-46aa-8dfa-2b49e4e9af96",
   "metadata": {},
   "outputs": [],
   "source": [
    "import h5py as h5"
   ]
  },
  {
   "cell_type": "code",
   "execution_count": 3,
   "id": "b566c803-7f2b-44dd-97e3-95d871880349",
   "metadata": {},
   "outputs": [],
   "source": [
    "# f = h5.File('/home/jacob/050625_cascade_default_bert.h5')\n",
    "f = h5.File('/home/jacob/g4rw_dev/Geant4Reweight/geant4reweight/app/PredictionBase/050625_cascade_default_bert_500k.h5')\n",
    "# f1_1 = h5.File('/home/jacob/050625_cascade_default_bert_1.h5')\n",
    "# f1_2 = h5.File('/home/jacob/050625_cascade_default_bert_2.h5')"
   ]
  },
  {
   "cell_type": "code",
   "execution_count": 4,
   "id": "6a598c6d-b5cf-4bf3-ae96-aa7f134df195",
   "metadata": {
    "scrolled": true
   },
   "outputs": [],
   "source": [
    "# pdgs = f['X'][:,:,3].astype(int)"
   ]
  },
  {
   "cell_type": "code",
   "execution_count": 5,
   "id": "9f982c81-0fe1-4bb5-8480-b779641f2249",
   "metadata": {},
   "outputs": [],
   "source": [
    "# (pdgs[np.where(f['X'][:,:,3] > 1e9)] - 1.e9)*-1.e-5"
   ]
  },
  {
   "cell_type": "code",
   "execution_count": 6,
   "id": "bc7c182f-7c61-48b8-af13-9ef81dfd0d14",
   "metadata": {},
   "outputs": [],
   "source": [
    "# plt.hist((pdgs[pdgs > 1000000000] - 1e9) * -1./1.e5)"
   ]
  },
  {
   "cell_type": "code",
   "execution_count": 7,
   "id": "759d7868-2e22-48e5-ac51-b8362f94f99e",
   "metadata": {},
   "outputs": [],
   "source": [
    "# pdgs = f['X'][:]\n",
    "# pdgs_1 = f1_1['X'][:]\n",
    "# pdgs_2 = f1_2['X'][:]"
   ]
  },
  {
   "cell_type": "code",
   "execution_count": 8,
   "id": "0c369e82-5772-4960-9ea1-84b4fe7bc035",
   "metadata": {},
   "outputs": [],
   "source": [
    "testpdg = 2112\n",
    "# plt.hist(np.sum(pdgs[:, :, 3].astype(int) == testpdg, axis=1), np.arange(0, 10, ), histtype='step')\n",
    "# plt.hist(np.sum(pdgs_1[:, :, 3].astype(int) == testpdg, axis=1), np.arange(0, 10, ), histtype='step')\n",
    "# plt.hist(np.sum(pdgs_2[:, :, 3].astype(int) == testpdg, axis=1), np.arange(0, 10, ), histtype='step')"
   ]
  },
  {
   "cell_type": "code",
   "execution_count": 9,
   "id": "2e39cb1c-643a-4a23-8d21-30925a47e9de",
   "metadata": {},
   "outputs": [],
   "source": [
    "f2 = h5.File('/home/jacob/050625_cascade_shadowing0.1_bert.h5')"
   ]
  },
  {
   "cell_type": "code",
   "execution_count": 10,
   "id": "a303569e-8b7c-4fc7-a42b-4b58e87f2d63",
   "metadata": {},
   "outputs": [],
   "source": [
    "f3 = h5.File('/home/jacob/050625_cascade_shadowing0.15_bert.h5')\n",
    "f4 = h5.File('/home/jacob/050625_cascade_shadowing0.20_bert.h5')\n",
    "f5 = h5.File('/home/jacob/050625_cascade_shadowing0.25_bert.h5')"
   ]
  },
  {
   "cell_type": "code",
   "execution_count": 11,
   "id": "8ce99c93-af68-4ba6-b450-2b8a72c733db",
   "metadata": {},
   "outputs": [],
   "source": [
    "f6 = h5.File('/home/jacob/g4rw_dev/Geant4Reweight/geant4reweight/app/PredictionBase/050625_cascade_shadowing1.5_bert_500k.h5')"
   ]
  },
  {
   "cell_type": "code",
   "execution_count": 12,
   "id": "1885d256-1c1b-40ca-a332-d194f7ed385c",
   "metadata": {},
   "outputs": [],
   "source": [
    "pdgs2 = f2['X'][:]"
   ]
  },
  {
   "cell_type": "code",
   "execution_count": 13,
   "id": "9639dbaf-1551-4ef2-ab27-0848e1ee205f",
   "metadata": {},
   "outputs": [],
   "source": [
    "pdgs3 = f3['X'][:]\n",
    "pdgs4 = f4['X'][:]\n",
    "pdgs5 = f5['X'][:]\n",
    "pdgs6 = f6['X'][:]"
   ]
  },
  {
   "cell_type": "code",
   "execution_count": 14,
   "id": "598fec1b-5746-49b5-bfca-0f8f5ecd2a72",
   "metadata": {},
   "outputs": [
    {
     "data": {
      "text/plain": [
       "(array([1.102e+03, 4.330e+03, 3.700e+03, 7.260e+03, 2.495e+03, 1.085e+03,\n",
       "        2.700e+01, 1.000e+00, 0.000e+00]),\n",
       " array([0., 1., 2., 3., 4., 5., 6., 7., 8., 9.]),\n",
       " [<matplotlib.patches.Polygon at 0x70a3a6a6c530>])"
      ]
     },
     "execution_count": 14,
     "metadata": {},
     "output_type": "execute_result"
    },
    {
     "data": {
      "image/png": "[encoded data removed]",
      "text/plain": [
       "<Figure size 640x480 with 1 Axes>"
      ]
     },
     "metadata": {},
     "output_type": "display_data"
    }
   ],
   "source": [
    "plt.hist(np.sum(pdgs2[:, :, 3].astype(int) == testpdg, axis=1), np.arange(0, 10, 1), histtype='step')\n",
    "plt.hist(np.sum(pdgs3[:, :, 3].astype(int) == testpdg, axis=1), np.arange(0, 10, 1), histtype='step')\n",
    "plt.hist(np.sum(pdgs4[:, :, 3].astype(int) == testpdg, axis=1), np.arange(0, 10, 1), histtype='step')\n",
    "plt.hist(np.sum(pdgs5[:, :, 3].astype(int) == testpdg, axis=1), np.arange(0, 10, 1), histtype='step')\n",
    "plt.hist(np.sum(pdgs6[:, :, 3].astype(int) == testpdg, axis=1), np.arange(0, 10, 1), histtype='step')"
   ]
  },
  {
   "cell_type": "code",
   "execution_count": 15,
   "id": "0940b0e4-3703-4488-aa78-7234a8f65c42",
   "metadata": {},
   "outputs": [],
   "source": [
    "PID2FLOAT_MAP = {22: 0,\n",
    "                 211: .1, -211: .2, \n",
    "                 321: .3, -321: .4, \n",
    "                 130: .5, \n",
    "                 2112: .6, -2112: .7, \n",
    "                 2212: .8, -2212: .9, \n",
    "                 11: 1.0, -11: 1.1,\n",
    "                 13: 1.2, -13: 1.3,\n",
    "}\n",
    "\n",
    "def remap_pids2(events, pid_i=3, error_on_unknown=True):\n",
    "    \"\"\"Remaps PDG id numbers to small floats for use in a neural network.\n",
    "    `events` are modified in place and nothing is returned.\n",
    "\n",
    "    **Arguments**\n",
    "\n",
    "    - **events** : _numpy.ndarray_\n",
    "        - The events as an array of arrays of particles.\n",
    "    - **pid_i** : _int_\n",
    "        - The column index corresponding to pid information in an event.\n",
    "    - **error_on_unknown** : _bool_\n",
    "        - Controls whether a `KeyError` is raised if an unknown PDG ID is\n",
    "        encountered. If `False`, unknown PDG IDs will map to zero.\n",
    "    \"\"\"\n",
    "\n",
    "    if events.ndim == 3:\n",
    "        pids = events[:,:,pid_i].astype(int).reshape((events.shape[0]*events.shape[1]))\n",
    "        chunk_indices = np.where(events[:,:,pid_i].astype(int) > 1e9) #Get the indices for where the nuke fragments are\n",
    "        floated_chunks = (events[:,:,pid_i][chunk_indices] - 1.e9)*-1.e-5\n",
    "        if error_on_unknown:\n",
    "            events[:,:,pid_i] = np.asarray([PID2FLOAT_MAP[pid]\n",
    "                                            for pid in pids]).reshape(events.shape[:2])\n",
    "        else:\n",
    "            events[:,:,pid_i] = np.asarray([PID2FLOAT_MAP.get(pid, 0)\n",
    "                                            for pid in pids]).reshape(events.shape[:2])\n",
    "        events[:,:,pid_i][chunk_indices] = floated_chunks\n",
    "    else:\n",
    "        if error_on_unknown:\n",
    "            for event in events:\n",
    "                event[:,pid_i] = np.asarray([PID2FLOAT_MAP[pid]\n",
    "                                             for pid in event[:,pid_i].astype(int)])\n",
    "        else:\n",
    "            for event in events:\n",
    "                event[:,pid_i] = np.asarray([PID2FLOAT_MAP.get(pid, 0)\n",
    "                                             for pid in event[:,pid_i].astype(int)])\n"
   ]
  },
  {
   "cell_type": "code",
   "execution_count": 16,
   "id": "6dc7938a-be24-44bd-840d-7ac2198210d1",
   "metadata": {},
   "outputs": [],
   "source": [
    "#normalize relative to incident momentum (100 MeV test)\n",
    "def normalize(x):\n",
    "    mask = np.linalg.norm(x[:,:3], axis=1) > 0.\n",
    "    x[mask, 0:3] /= 100."
   ]
  },
  {
   "cell_type": "code",
   "execution_count": 17,
   "id": "95ce30c5-9e3f-4e4e-9ab4-34aa665be6ea",
   "metadata": {},
   "outputs": [],
   "source": [
    "def preprocess_data(X):\n",
    "    for x in X:\n",
    "        normalize(x)\n",
    "    \n",
    "    # Remap PIDs to unique values in range [0,1]\n",
    "    remap_pids2(X, pid_i=3, error_on_unknown=False)\n",
    "    # return X"
   ]
  },
  {
   "cell_type": "code",
   "execution_count": 18,
   "id": "bca372fc-84d2-48d4-9e11-2127f03b2d1c",
   "metadata": {},
   "outputs": [],
   "source": [
    "X = f2['X'][:, :, :4]"
   ]
  },
  {
   "cell_type": "code",
   "execution_count": 19,
   "id": "10de0c57-735b-49e6-ac0b-1ceea8e33576",
   "metadata": {},
   "outputs": [],
   "source": [
    "# remap_pids(X, pid_i=3, error_on_unknown=False)\n",
    "preprocess_data(X)"
   ]
  },
  {
   "cell_type": "code",
   "execution_count": 20,
   "id": "dde0dc6a-8bed-427f-9bf4-eaf3fea5ac0f",
   "metadata": {},
   "outputs": [
    {
     "data": {
      "text/plain": [
       "array([-0.23141862, -1.8607374 ,  0.15730196,  0.8       ], dtype=float32)"
      ]
     },
     "execution_count": 20,
     "metadata": {},
     "output_type": "execute_result"
    }
   ],
   "source": [
    "X[0][0]"
   ]
  },
  {
   "cell_type": "code",
   "execution_count": 21,
   "id": "d0ee8cd5-75c9-475b-af16-5dd99ffdadc4",
   "metadata": {},
   "outputs": [],
   "source": [
    "X2 = f3['X'][:, :, :4]"
   ]
  },
  {
   "cell_type": "code",
   "execution_count": 22,
   "id": "a6cddbd0-c19f-4fd7-b935-63152629f6bd",
   "metadata": {
    "scrolled": true
   },
   "outputs": [],
   "source": [
    "preprocess_data(X2)"
   ]
  },
  {
   "cell_type": "code",
   "execution_count": 23,
   "id": "910f4cc2-46f1-48dd-b818-3fac1956e583",
   "metadata": {},
   "outputs": [
    {
     "data": {
      "text/plain": [
       "(20000, 20, 4)"
      ]
     },
     "execution_count": 23,
     "metadata": {},
     "output_type": "execute_result"
    }
   ],
   "source": [
    "X2.shape"
   ]
  },
  {
   "cell_type": "code",
   "execution_count": 24,
   "id": "f95b445c-6277-4cf5-be58-e6214e1b5041",
   "metadata": {},
   "outputs": [],
   "source": [
    "Xcomb = np.concatenate((X,X2))"
   ]
  },
  {
   "cell_type": "code",
   "execution_count": 25,
   "id": "6e280089-22b4-4674-a62d-a0aabd2943f8",
   "metadata": {},
   "outputs": [],
   "source": [
    "Ycomb = np.zeros((Xcomb.shape[0], 2))"
   ]
  },
  {
   "cell_type": "code",
   "execution_count": 26,
   "id": "a1679166-f989-4bd0-a9a4-b7e9cf965c5d",
   "metadata": {},
   "outputs": [
    {
     "data": {
      "text/plain": [
       "(40000, 20, 4)"
      ]
     },
     "execution_count": 26,
     "metadata": {},
     "output_type": "execute_result"
    }
   ],
   "source": [
    "Xcomb.shape"
   ]
  },
  {
   "cell_type": "code",
   "execution_count": 27,
   "id": "395267e8-e873-4118-a245-4493550f3b93",
   "metadata": {},
   "outputs": [
    {
     "data": {
      "text/plain": [
       "(40000, 2)"
      ]
     },
     "execution_count": 27,
     "metadata": {},
     "output_type": "execute_result"
    }
   ],
   "source": [
    "Ycomb.shape"
   ]
  },
  {
   "cell_type": "code",
   "execution_count": 28,
   "id": "e2d6644e-f6d8-401a-bfbc-46eabde40a72",
   "metadata": {},
   "outputs": [],
   "source": [
    "Ycomb[0:int(Ycomb.shape[0]/2), 0] = 1.\n",
    "Ycomb[int(Ycomb.shape[0]/2):, 1] = 1.  "
   ]
  },
  {
   "cell_type": "code",
   "execution_count": 29,
   "id": "a03899a5-9845-4bb6-b72c-b53b2f143319",
   "metadata": {},
   "outputs": [
    {
     "name": "stderr",
     "output_type": "stream",
     "text": [
      "2025-07-01 15:03:39.021583: E external/local_xla/xla/stream_executor/cuda/cuda_platform.cc:51] failed call to cuInit: INTERNAL: CUDA error: Failed call to cuInit: CUDA_ERROR_NO_DEVICE: no CUDA-capable device is detected\n"
     ]
    }
   ],
   "source": [
    "# network architecture parameters\n",
    "Phi_sizes = (100,100, 128)\n",
    "F_sizes = (100,100, 100)\n",
    "\n",
    "dctr = PFN(input_dim=4, \n",
    "           Phi_sizes=Phi_sizes, F_sizes=F_sizes,\n",
    "           summary=False)"
   ]
  },
  {
   "cell_type": "code",
   "execution_count": 30,
   "id": "80cfa214-74f8-47e2-b22e-df43fc002761",
   "metadata": {},
   "outputs": [],
   "source": [
    "save_label = 'DCT_g4rw'\n",
    "\n",
    "checkpoint = keras.callbacks.ModelCheckpoint('./saved_models/' + save_label + '.h5', \n",
    "                                                monitor='val_loss', \n",
    "                                                verbose=2, \n",
    "                                                save_best_only=True, \n",
    "                                                mode='min')\n",
    "\n",
    "CSVLogger = keras.callbacks.CSVLogger('./logs/' + save_label + '_loss.csv', append=False)\n",
    "\n",
    "EarlyStopping = keras.callbacks.EarlyStopping(monitor='val_loss', \n",
    "                                              min_delta=0, \n",
    "                                              patience=10, \n",
    "                                              verbose=1, \n",
    "                                              restore_best_weights=True)\n",
    "\n",
    "callbacks = [checkpoint, CSVLogger, EarlyStopping]"
   ]
  },
  {
   "cell_type": "code",
   "execution_count": 31,
   "id": "0650388e-da23-4f0c-952f-baa106213f08",
   "metadata": {},
   "outputs": [],
   "source": [
    "X_train, X_val, Y_train, Y_val = data_split(Xcomb, Ycomb, test=0.1, shuffle=True)"
   ]
  },
  {
   "cell_type": "code",
   "execution_count": 32,
   "id": "511d9219-a99e-4689-9b03-2df091e9fb08",
   "metadata": {
    "collapsed": true,
    "jupyter": {
     "outputs_hidden": true
    },
    "scrolled": true
   },
   "outputs": [
    {
     "data": {
      "text/plain": [
       "array([[1., 0.],\n",
       "       [0., 1.],\n",
       "       [0., 1.],\n",
       "       [1., 0.],\n",
       "       [0., 1.],\n",
       "       [1., 0.],\n",
       "       [0., 1.],\n",
       "       [1., 0.],\n",
       "       [1., 0.],\n",
       "       [1., 0.],\n",
       "       [0., 1.],\n",
       "       [1., 0.],\n",
       "       [0., 1.],\n",
       "       [0., 1.],\n",
       "       [0., 1.],\n",
       "       [0., 1.],\n",
       "       [0., 1.],\n",
       "       [1., 0.],\n",
       "       [1., 0.],\n",
       "       [1., 0.],\n",
       "       [0., 1.],\n",
       "       [0., 1.],\n",
       "       [0., 1.],\n",
       "       [0., 1.],\n",
       "       [1., 0.],\n",
       "       [1., 0.],\n",
       "       [1., 0.],\n",
       "       [0., 1.],\n",
       "       [1., 0.],\n",
       "       [0., 1.],\n",
       "       [0., 1.],\n",
       "       [0., 1.],\n",
       "       [1., 0.],\n",
       "       [0., 1.],\n",
       "       [1., 0.],\n",
       "       [0., 1.],\n",
       "       [1., 0.],\n",
       "       [1., 0.],\n",
       "       [0., 1.],\n",
       "       [1., 0.],\n",
       "       [1., 0.],\n",
       "       [1., 0.],\n",
       "       [1., 0.],\n",
       "       [1., 0.],\n",
       "       [0., 1.],\n",
       "       [0., 1.],\n",
       "       [1., 0.],\n",
       "       [1., 0.],\n",
       "       [1., 0.],\n",
       "       [0., 1.],\n",
       "       [0., 1.],\n",
       "       [1., 0.],\n",
       "       [0., 1.],\n",
       "       [1., 0.],\n",
       "       [0., 1.],\n",
       "       [1., 0.],\n",
       "       [0., 1.],\n",
       "       [1., 0.],\n",
       "       [0., 1.],\n",
       "       [0., 1.],\n",
       "       [1., 0.],\n",
       "       [1., 0.],\n",
       "       [0., 1.],\n",
       "       [1., 0.],\n",
       "       [1., 0.],\n",
       "       [1., 0.],\n",
       "       [1., 0.],\n",
       "       [1., 0.],\n",
       "       [0., 1.],\n",
       "       [1., 0.],\n",
       "       [0., 1.],\n",
       "       [1., 0.],\n",
       "       [0., 1.],\n",
       "       [0., 1.],\n",
       "       [0., 1.],\n",
       "       [0., 1.],\n",
       "       [1., 0.],\n",
       "       [1., 0.],\n",
       "       [1., 0.],\n",
       "       [1., 0.],\n",
       "       [0., 1.],\n",
       "       [1., 0.],\n",
       "       [0., 1.],\n",
       "       [1., 0.],\n",
       "       [1., 0.],\n",
       "       [1., 0.],\n",
       "       [0., 1.],\n",
       "       [1., 0.],\n",
       "       [1., 0.],\n",
       "       [0., 1.],\n",
       "       [1., 0.],\n",
       "       [0., 1.],\n",
       "       [0., 1.],\n",
       "       [0., 1.],\n",
       "       [0., 1.],\n",
       "       [1., 0.],\n",
       "       [0., 1.],\n",
       "       [1., 0.],\n",
       "       [0., 1.],\n",
       "       [1., 0.]])"
      ]
     },
     "execution_count": 32,
     "metadata": {},
     "output_type": "execute_result"
    }
   ],
   "source": [
    "Y_train[0:100]"
   ]
  },
  {
   "cell_type": "code",
   "execution_count": 33,
   "id": "ca9903d2-bc41-41c8-b6bf-8fe059a2973d",
   "metadata": {
    "scrolled": true
   },
   "outputs": [
    {
     "name": "stdout",
     "output_type": "stream",
     "text": [
      "Epoch 1/3\n",
      "36/36 [==============================] - 1s 15ms/step - loss: 1.0486 - acc: 0.4947 - val_loss: 0.7342 - val_acc: 0.4942\n",
      "Epoch 2/3\n",
      "36/36 [==============================] - 0s 12ms/step - loss: 0.7135 - acc: 0.5064 - val_loss: 0.7025 - val_acc: 0.5002\n",
      "Epoch 3/3\n",
      "36/36 [==============================] - 0s 12ms/step - loss: 0.7034 - acc: 0.5084 - val_loss: 0.7556 - val_acc: 0.4900\n"
     ]
    }
   ],
   "source": [
    "history = dctr.fit(X_train, Y_train,\n",
    "                    epochs = 3,\n",
    "                    batch_size = 1028,\n",
    "                    validation_data = (X_val, Y_val),\n",
    "                    verbose = 1)#, \n",
    "                    #callbacks = callbacks)"
   ]
  },
  {
   "cell_type": "code",
   "execution_count": 34,
   "id": "d64478ce-eda9-4422-91f3-a21414ab5905",
   "metadata": {},
   "outputs": [
    {
     "data": {
      "image/png": "[encoded data removed]",
      "text/plain": [
       "<Figure size 640x480 with 1 Axes>"
      ]
     },
     "metadata": {},
     "output_type": "display_data"
    }
   ],
   "source": [
    "plt.plot(history.history['loss'],     label = 'loss')\n",
    "plt.plot(history.history['val_loss'], label = 'val loss')\n",
    "plt.legend(loc=0)\n",
    "plt.ylabel('loss')\n",
    "plt.xlabel('Epochs')\n",
    "plt.ylim(0., 2.)\n",
    "plt.show()"
   ]
  },
  {
   "cell_type": "code",
   "execution_count": 35,
   "id": "638ed73a-1514-4375-a4de-e58f271bc0f1",
   "metadata": {},
   "outputs": [
    {
     "data": {
      "text/plain": [
       "17954"
      ]
     },
     "execution_count": 35,
     "metadata": {},
     "output_type": "execute_result"
    }
   ],
   "source": [
    "np.sum(Y_train[:,0] == 1)"
   ]
  },
  {
   "cell_type": "code",
   "execution_count": 54,
   "id": "b406321f-5469-4c36-af13-818ed2f60efe",
   "metadata": {},
   "outputs": [
    {
     "name": "stdout",
     "output_type": "stream",
     "text": [
      "36/36 [==============================] - 0s 5ms/step\n"
     ]
    }
   ],
   "source": [
    "ws = dctr.predict(X_train, batch_size=1000)"
   ]
  },
  {
   "cell_type": "code",
   "execution_count": 55,
   "id": "9583d957-2f9e-45c6-963b-a04a021a4c80",
   "metadata": {},
   "outputs": [
    {
     "data": {
      "text/plain": [
       "array([[0.2976673 , 0.7023327 ],\n",
       "       [0.47939953, 0.5206005 ],\n",
       "       [0.4583056 , 0.54169446],\n",
       "       ...,\n",
       "       [0.4473911 , 0.5526089 ],\n",
       "       [0.42155698, 0.57844305],\n",
       "       [0.32814515, 0.67185485]], dtype=float32)"
      ]
     },
     "execution_count": 55,
     "metadata": {},
     "output_type": "execute_result"
    }
   ],
   "source": [
    "ws"
   ]
  },
  {
   "cell_type": "code",
   "execution_count": 60,
   "id": "be1e0126-9139-4c0c-ad01-0011a4d274e0",
   "metadata": {},
   "outputs": [
    {
     "data": {
      "text/plain": [
       "(36000, 2)"
      ]
     },
     "execution_count": 60,
     "metadata": {},
     "output_type": "execute_result"
    }
   ],
   "source": []
  },
  {
   "cell_type": "code",
   "execution_count": 58,
   "id": "056ab0ca-5f5d-4d6b-a8cb-941326a15a90",
   "metadata": {},
   "outputs": [],
   "source": [
    "#Get the entries where it's nominal (index 0 is high) or varied (index 1 is high)\n",
    "def_indices = np.where(Y_train[:,0] == 1)\n",
    "var_indices = np.where(Y_train[:,1] == 1)"
   ]
  },
  {
   "cell_type": "code",
   "execution_count": 57,
   "id": "4b41f7ab-198e-4e56-8601-4523592b94d8",
   "metadata": {},
   "outputs": [],
   "source": [
    "weights_0 = ws[:,0]/ws[:,1] #weights varied->nominal are the likelihood ratio "
   ]
  },
  {
   "cell_type": "code",
   "execution_count": 61,
   "id": "cfc7ba73-f934-4937-87dd-aa82a18ac80e",
   "metadata": {
    "scrolled": true
   },
   "outputs": [
    {
     "data": {
      "text/plain": [
       "(array([0.000e+00, 0.000e+00, 0.000e+00, 0.000e+00, 0.000e+00, 1.000e+00,\n",
       "        6.000e+00, 3.500e+01, 1.360e+02, 2.990e+02, 5.050e+02, 6.770e+02,\n",
       "        8.590e+02, 1.035e+03, 1.148e+03, 1.287e+03, 1.301e+03, 1.345e+03,\n",
       "        1.251e+03, 1.181e+03, 1.096e+03, 9.760e+02, 8.140e+02, 6.700e+02,\n",
       "        6.130e+02, 4.940e+02, 3.920e+02, 3.280e+02, 2.920e+02, 2.370e+02,\n",
       "        1.570e+02, 1.610e+02, 1.350e+02, 9.600e+01, 7.500e+01, 6.700e+01,\n",
       "        5.700e+01, 5.500e+01, 3.600e+01, 3.200e+01, 2.600e+01, 3.100e+01,\n",
       "        1.700e+01, 2.100e+01, 1.100e+01, 1.600e+01, 1.000e+01, 1.200e+01,\n",
       "        2.000e+00]),\n",
       " array([0. , 0.1, 0.2, 0.3, 0.4, 0.5, 0.6, 0.7, 0.8, 0.9, 1. , 1.1, 1.2,\n",
       "        1.3, 1.4, 1.5, 1.6, 1.7, 1.8, 1.9, 2. , 2.1, 2.2, 2.3, 2.4, 2.5,\n",
       "        2.6, 2.7, 2.8, 2.9, 3. , 3.1, 3.2, 3.3, 3.4, 3.5, 3.6, 3.7, 3.8,\n",
       "        3.9, 4. , 4.1, 4.2, 4.3, 4.4, 4.5, 4.6, 4.7, 4.8, 4.9]),\n",
       " [<matplotlib.patches.Polygon at 0x70a34857d1f0>])"
      ]
     },
     "execution_count": 61,
     "metadata": {},
     "output_type": "execute_result"
    },
    {
     "data": {
      "image/png": "[encoded data removed]",
      "text/plain": [
       "<Figure size 640x480 with 1 Axes>"
      ]
     },
     "metadata": {},
     "output_type": "display_data"
    }
   ],
   "source": [
    "plt.hist(weights_0[def_indices], np.arange(0.,5, .1), histtype='step')\n",
    "plt.hist(weights_0[var_indices], np.arange(0.,5, .1), histtype='step')"
   ]
  },
  {
   "cell_type": "code",
   "execution_count": 42,
   "id": "b6436842-b548-4634-9742-5c3aca61f789",
   "metadata": {},
   "outputs": [
    {
     "name": "stdout",
     "output_type": "stream",
     "text": [
      "4/4 [==============================] - 0s 6ms/step\n"
     ]
    }
   ],
   "source": [
    "ws_val = dctr.predict(X_val, batch_size=1000)\n",
    "indices_val = np.where(Y_val[:,0]==1)\n",
    "indices2_val = np.where(Y_val[:,1]==1)"
   ]
  },
  {
   "cell_type": "code",
   "execution_count": 43,
   "id": "d8f837e5-d64c-4858-9976-79442ca3927f",
   "metadata": {},
   "outputs": [],
   "source": [
    "weights_0_val = ws_val[:,0]/ws_val[:,1]"
   ]
  },
  {
   "cell_type": "code",
   "execution_count": 44,
   "id": "1eae0279-a992-46b3-838a-0a84c221ea4e",
   "metadata": {
    "collapsed": true,
    "jupyter": {
     "outputs_hidden": true,
     "source_hidden": true
    },
    "scrolled": true
   },
   "outputs": [
    {
     "data": {
      "text/plain": [
       "(array([  0.,   5.,  54., 274., 440., 446., 329., 183., 114.,  70.,  20.,\n",
       "         14.,   1.,   4.,   0.,   0.,   0.,   0.,   0.,   0.,   0.,   0.,\n",
       "          0.,   0.,   0.,   0.,   0.,   0.,   0.,   0.,   0.,   0.,   0.,\n",
       "          0.,   0.,   0.,   0.,   0.,   0.,   0.,   0.,   0.,   0.,   0.,\n",
       "          0.,   0.,   0.,   0.,   0.]),\n",
       " array([0. , 0.1, 0.2, 0.3, 0.4, 0.5, 0.6, 0.7, 0.8, 0.9, 1. , 1.1, 1.2,\n",
       "        1.3, 1.4, 1.5, 1.6, 1.7, 1.8, 1.9, 2. , 2.1, 2.2, 2.3, 2.4, 2.5,\n",
       "        2.6, 2.7, 2.8, 2.9, 3. , 3.1, 3.2, 3.3, 3.4, 3.5, 3.6, 3.7, 3.8,\n",
       "        3.9, 4. , 4.1, 4.2, 4.3, 4.4, 4.5, 4.6, 4.7, 4.8, 4.9]),\n",
       " [<matplotlib.patches.Polygon at 0x70a3afca6510>])"
      ]
     },
     "execution_count": 44,
     "metadata": {},
     "output_type": "execute_result"
    },
    {
     "data": {
      "image/png": "[encoded data removed]",
      "text/plain": [
       "<Figure size 640x480 with 1 Axes>"
      ]
     },
     "metadata": {},
     "output_type": "display_data"
    }
   ],
   "source": [
    "plt.hist(weights_0_val[indices_val], np.arange(0.,5, .1), histtype='step')\n",
    "plt.hist(weights_0_val[indices2_val], np.arange(0.,5, .1), histtype='step')"
   ]
  },
  {
   "cell_type": "code",
   "execution_count": 46,
   "id": "8a99004c-0c62-43a4-bc31-b525c8d5cdaf",
   "metadata": {},
   "outputs": [],
   "source": [
    "testpdg = .6"
   ]
  },
  {
   "cell_type": "code",
   "execution_count": 47,
   "id": "4c241d8c-9782-48ee-84da-de28c9bb6b9e",
   "metadata": {},
   "outputs": [
    {
     "name": "stdout",
     "output_type": "stream",
     "text": [
      "[[[0.8 0.8 0.  ... 0.  0.  0. ]\n",
      "  [0.6 0.8 0.  ... 0.  0.  0. ]\n",
      "  [0.6 0.8 0.6 ... 0.  0.  0. ]\n",
      "  ...\n",
      "  [0.8 0.6 0.6 ... 0.  0.  0. ]\n",
      "  [0.8 0.8 0.6 ... 0.  0.  0. ]\n",
      "  [0.8 0.8 0.  ... 0.  0.  0. ]]]\n",
      "(1, 17954, 20)\n"
     ]
    }
   ],
   "source": [
    "\n",
    "\n",
    "print(X_train[def_indices, :, 3])\n",
    "print(((X_train[def_indices, :, 3] > testpdg-.5) & (X_train[def_indices, :, 3] < testpdg +.5)).shape)\n"
   ]
  },
  {
   "cell_type": "code",
   "execution_count": 48,
   "id": "06c5d23f-ad3c-4f98-bd82-06da0313dab3",
   "metadata": {},
   "outputs": [
    {
     "data": {
      "text/plain": [
       "<matplotlib.legend.Legend at 0x70a3afc6d5e0>"
      ]
     },
     "execution_count": 48,
     "metadata": {},
     "output_type": "execute_result"
    },
    {
     "data": {
      "image/png": "[encoded data removed]",
      "text/plain": [
       "<Figure size 640x480 with 1 Axes>"
      ]
     },
     "metadata": {},
     "output_type": "display_data"
    }
   ],
   "source": [
    "\n",
    "plt.hist(np.sum(((X_train[def_indices, :, 3] > testpdg-.5) & (X_train[def_indices, :, 3] < testpdg +.5))[0], axis=1), np.arange(0, 12, ), histtype='step', label='Gen 0')\n",
    "plt.hist(np.sum(((X_train[var_indices, :, 3] > testpdg-.5) & (X_train[var_indices, :, 3] < testpdg +.5))[0], axis=1), np.arange(0, 12, ), histtype='step', label='Gen 1')\n",
    "plt.hist(np.sum(((X_train[var_indices, :, 3] > testpdg-.5) & (X_train[var_indices, :, 3] < testpdg +.5))[0], axis=1), np.arange(0, 12, ), histtype='step', label='Weight 1->0', weights=weights_0[var_indices])\n",
    "plt.legend()"
   ]
  },
  {
   "cell_type": "code",
   "execution_count": 51,
   "id": "55396348-f064-4b7a-a59d-be9e99b5aabd",
   "metadata": {},
   "outputs": [
    {
     "data": {
      "text/plain": [
       "<matplotlib.legend.Legend at 0x70a3a7ae49e0>"
      ]
     },
     "execution_count": 51,
     "metadata": {},
     "output_type": "execute_result"
    },
    {
     "data": {
      "image/png": "[encoded data removed]",
      "text/plain": [
       "<Figure size 640x480 with 1 Axes>"
      ]
     },
     "metadata": {},
     "output_type": "display_data"
    }
   ],
   "source": [
    "def_indices_val = np.where(Y_val[:,0] == 1)\n",
    "var_indices_val = np.where(Y_val[:,1] == 1)\n",
    "plt.hist(np.sum(((X_val[def_indices_val, :, 3] > testpdg-.5) & (X_val[def_indices_val, :, 3] < testpdg +.5))[0], axis=1), np.arange(0, 12, ), histtype='step', label='Gen 0')\n",
    "plt.hist(np.sum(((X_val[var_indices_val, :, 3] > testpdg-.5) & (X_val[var_indices_val, :, 3] < testpdg +.5))[0], axis=1), np.arange(0, 12, ), histtype='step', label='Gen 1')\n",
    "plt.hist(np.sum(((X_val[var_indices_val, :, 3] > testpdg-.5) & (X_val[var_indices_val, :, 3] < testpdg +.5))[0], axis=1), np.arange(0, 12, ), histtype='step', label='Weight 1->0', weights=weights_0_val[var_indices_val])\n",
    "# plt.hist(np.sum(((X_train[def_indices, :, 3] > testpdg-.5) & (X_train[def_indices, :, 3] < testpdg +.5))[0], axis=1), np.arange(0, 12, ), histtype='step', label='Weight 0->1', weights=1./weights_0[def_indices])\n",
    "plt.legend()"
   ]
  },
  {
   "cell_type": "code",
   "execution_count": 52,
   "id": "1ad416f5-bbc8-49f9-83f3-e0e9cfde87fd",
   "metadata": {},
   "outputs": [
    {
     "data": {
      "text/plain": [
       "<matplotlib.legend.Legend at 0x70a481c649e0>"
      ]
     },
     "execution_count": 52,
     "metadata": {},
     "output_type": "execute_result"
    },
    {
     "data": {
      "image/png": "[encoded data removed]",
      "text/plain": [
       "<Figure size 640x480 with 1 Axes>"
      ]
     },
     "metadata": {},
     "output_type": "display_data"
    }
   ],
   "source": [
    "plt.hist(np.sum((X_train[def_indices, :, 3] < 0)[0], axis=1), np.arange(0, 12, ), histtype='step', label='Gen 0')\n",
    "plt.hist(np.sum((X_train[var_indices, :, 3] < 0)[0], axis=1), np.arange(0, 12, ), histtype='step', label='Gen 1')\n",
    "plt.hist(np.sum((X_train[var_indices, :, 3] < 0)[0], axis=1), np.arange(0, 12, ), histtype='step', label='Weight 1->0', weights=weights_0[var_indices])\n",
    "plt.legend()"
   ]
  },
  {
   "cell_type": "code",
   "execution_count": null,
   "id": "fc7ff7a0-67b7-49e3-9f56-1a6e1d9f1c43",
   "metadata": {},
   "outputs": [],
   "source": []
  }
 ],
 "metadata": {
  "kernelspec": {
   "display_name": "Python 3 (ipykernel)",
   "language": "python",
   "name": "python3"
  },
  "language_info": {
   "codemirror_mode": {
    "name": "ipython",
    "version": 3
   },
   "file_extension": ".py",
   "mimetype": "text/x-python",
   "name": "python",
   "nbconvert_exporter": "python",
   "pygments_lexer": "ipython3",
   "version": "3.12.3"
  }
 },
 "nbformat": 4,
 "nbformat_minor": 5
}
